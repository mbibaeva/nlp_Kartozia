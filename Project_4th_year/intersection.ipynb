{
 "cells": [
  {
   "cell_type": "markdown",
   "metadata": {},
   "source": [
    "### Идея 2"
   ]
  },
  {
   "cell_type": "code",
   "execution_count": 39,
   "metadata": {
    "collapsed": true
   },
   "outputs": [],
   "source": [
    "words_sentences_list = [x.split(' ') for x in sentences_list]"
   ]
  },
  {
   "cell_type": "code",
   "execution_count": 40,
   "metadata": {
    "collapsed": true
   },
   "outputs": [],
   "source": [
    "for i in range(len(words_sentences_list)):\n",
    "    for j in range(len(words_sentences_list[i])):\n",
    "        words_sentences_list[i][j] = preprocessing(words_sentences_list[i][j])"
   ]
  },
  {
   "cell_type": "code",
   "execution_count": 41,
   "metadata": {
    "collapsed": true
   },
   "outputs": [],
   "source": [
    "words_sentences_list = [word for word in words_sentences_list if word != ' ']"
   ]
  },
  {
   "cell_type": "code",
   "execution_count": 42,
   "metadata": {
    "collapsed": true
   },
   "outputs": [],
   "source": [
    "import gensim\n",
    "model = gensim.models.Word2Vec(words_sentences_list, size=500, window=10, min_count=2, sg=0)"
   ]
  },
  {
   "cell_type": "code",
   "execution_count": 43,
   "metadata": {},
   "outputs": [
    {
     "data": {
      "text/plain": [
       "<gensim.models.word2vec.Word2Vec at 0x149195b38>"
      ]
     },
     "execution_count": 43,
     "metadata": {},
     "output_type": "execute_result"
    }
   ],
   "source": [
    "model"
   ]
  },
  {
   "cell_type": "code",
   "execution_count": 44,
   "metadata": {
    "collapsed": true
   },
   "outputs": [],
   "source": [
    "import pickle\n",
    "pickle.dump(model, open(\"w2v_model\", \"wb\"))\n",
    "#model = pickle.load(open(\"w2v_model\", \"rb\"))"
   ]
  },
  {
   "cell_type": "code",
   "execution_count": 45,
   "metadata": {
    "collapsed": true
   },
   "outputs": [],
   "source": [
    "model.wv.save_word2vec_format('model.bin', binary=True)"
   ]
  },
  {
   "cell_type": "markdown",
   "metadata": {},
   "source": [
    "## пересечение со словарем"
   ]
  },
  {
   "cell_type": "code",
   "execution_count": 53,
   "metadata": {
    "collapsed": true
   },
   "outputs": [],
   "source": [
    "with open('sentiment_list-3.txt','r',encoding='utf-8') as file4:\n",
    "    new_sent_words = {word.split('\\t')[0] for word in file4.readlines()}"
   ]
  },
  {
   "cell_type": "code",
   "execution_count": 74,
   "metadata": {},
   "outputs": [
    {
     "name": "stdout",
     "output_type": "stream",
     "text": [
      "Всего найдено  197  слов\n",
      "Пересечение со словарем оценочных выражений:  57 слов,  30.0 % списка\n"
     ]
    }
   ],
   "source": [
    "print('Всего найдено ', len(new_sent_words), ' слов')\n",
    "print('Пересечение со словарем оценочных выражений: ', len(sentiment_dict & new_sent_words), 'слов, ',\n",
    "      round(len(sentiment_dict & new_sent_words)/len(new_sent_words), 1)*100, '% списка')"
   ]
  },
  {
   "cell_type": "code",
   "execution_count": 56,
   "metadata": {},
   "outputs": [
    {
     "name": "stdout",
     "output_type": "stream",
     "text": [
      "неплохой\n",
      "признательность\n",
      "великолепный\n",
      "внимательный\n",
      "двойственный\n",
      "вкусный\n",
      "благодарность\n",
      "классный\n",
      "ужасный\n",
      "замечательный\n",
      "отрицательный\n",
      "улыбаться\n",
      "душевный\n",
      "обходительный\n",
      "противоречивый\n",
      "приветливый\n",
      "стильный\n",
      "прекрасный\n",
      "потрясающий\n",
      "негативный\n",
      "оригинальный\n",
      "осадок\n",
      "умеренный\n",
      "отменный\n",
      "испортиться\n",
      "обширный\n",
      "предупредительный\n",
      "приличный\n",
      "восторженный\n",
      "дружелюбный\n",
      "отвратительный\n",
      "грубить\n",
      "шикарный\n",
      "отличный\n",
      "качественный\n",
      "потрясать\n",
      "доброжелательный\n",
      "достойный\n",
      "разумный\n",
      "благодарный\n",
      "восхитительный\n",
      "правильный\n",
      "вежливый\n",
      "демократичный\n",
      "улыбчивый\n",
      "положительный\n",
      "гуманный\n",
      "симпатичный\n",
      "удивительный\n",
      "превосходный\n",
      "спокойный\n",
      "тихий\n",
      "изумительный\n",
      "позитивный\n",
      "живой\n",
      "чудесный\n",
      "посредственный\n"
     ]
    }
   ],
   "source": [
    "for word in sentiment_dict & new_sent_words:\n",
    "    print(word)"
   ]
  },
  {
   "cell_type": "code",
   "execution_count": 62,
   "metadata": {},
   "outputs": [
    {
     "name": "stdout",
     "output_type": "stream",
     "text": [
      "разнообразие\n",
      "топтаться\n",
      "милый \n",
      "организованный\n",
      "спасибо \n",
      "фоновый\n",
      "мальчик\n",
      "выступать\n",
      "неплохой \n",
      "умница \n",
      "отвечать \n",
      "внимательный \n",
      "кавказский\n",
      "окраина\n",
      "итальянский\n",
      "разнообразный \n",
      "средний \n",
      "громко\n",
      "девушка\n",
      "классный \n",
      "бейджик\n",
      "сервис \n",
      "приемлимый\n",
      "официанка\n",
      "супер \n",
      "японский\n",
      "обычный\n",
      "бегать\n",
      "играть\n",
      "отвратительный \n",
      "Вю\n",
      "бармен \n",
      "бедненький \n",
      "ненавязчивый \n",
      "отличный \n",
      "нормальный \n",
      "кофейня\n",
      "воспоминание\n",
      "благодарность \n",
      "выключать\n",
      "великолепный \n",
      "улыбаться \n",
      "гауд\n",
      "четко \n",
      "врубать\n",
      "клиент\n",
      "парень\n",
      "музыка \n",
      "менеджер\n",
      "вкусно \n",
      " quot оставлять\n",
      "обслуживание \n",
      "подстреливать\n",
      "китайский\n",
      "администратор \n",
      "мексикан \n",
      "вкусный \n",
      "ребята\n",
      "официантка\n",
      "мероприятие \n",
      "вежливый \n",
      "разнообразно \n",
      "молодец \n",
      "эмоция\n",
      "коллектив\n",
      "сервис\n",
      "грузинский\n",
      "бейдж\n",
      "дешевый \n",
      "впечатление \n",
      "сытно \n",
      "хостесса\n",
      "девушка \n",
      "девочка\n",
      "приятный \n",
      "официант \n",
      "изменяться\n",
      "вежливо\n",
      "свадебный\n",
      "разговаривать\n",
      "обалденный\n",
      "купчино\n",
      "петь\n",
      "бармен\n",
      "соня \n",
      "официант\n",
      "айс\n",
      "потрясать \n",
      "оформлять\n",
      "громкий\n",
      "умничек \n",
      "ачма\n",
      "обстоятельно \n",
      "вопрос \n",
      "орать \n",
      "отменный \n",
      "персонал \n",
      "объяснять\n",
      "уединенный\n",
      "пепперони \n",
      "суша бар\n",
      "сытно\n",
      "стараться\n",
      "доброжелательно \n",
      "плохой \n",
      "узбекский\n",
      "благодарить\n",
      "манта \n",
      "вопрос\n",
      "задавать\n",
      "хата \n",
      "персонал\n",
      "вкусно\n",
      "эмоция \n",
      "тетка quot \n",
      "официантка \n",
      "изумительный \n",
      "мильфей\n",
      "подготовка\n",
      "прекрасный \n",
      "поблагодарить\n",
      "обслуживать \n",
      "администратор\n",
      "достойный \n",
      "хороший \n",
      "витражный\n",
      "положительный \n",
      "хромать\n",
      "управляющий\n",
      "приличный \n",
      "басс\n",
      "периодически\n",
      "замечательный \n",
      "выражать\n",
      "уютный \n",
      " 320р \n",
      "пытаться\n",
      "красивый \n",
      "атмосферный\n",
      "марципановый\n"
     ]
    }
   ],
   "source": [
    "for word in (new_sent_words - sentiment_dict):\n",
    "    print(word)"
   ]
  },
  {
   "cell_type": "code",
   "execution_count": null,
   "metadata": {
    "collapsed": true
   },
   "outputs": [],
   "source": []
  }
 ],
 "metadata": {
  "kernelspec": {
   "display_name": "Python 3",
   "language": "python",
   "name": "python3"
  },
  "language_info": {
   "codemirror_mode": {
    "name": "ipython",
    "version": 3
   },
   "file_extension": ".py",
   "mimetype": "text/x-python",
   "name": "python",
   "nbconvert_exporter": "python",
   "pygments_lexer": "ipython3",
   "version": "3.6.3"
  }
 },
 "nbformat": 4,
 "nbformat_minor": 2
}
