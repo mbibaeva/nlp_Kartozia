{
 "cells": [
  {
   "cell_type": "code",
   "execution_count": 7,
   "metadata": {
    "collapsed": true
   },
   "outputs": [],
   "source": [
    "import pandas as pd\n",
    "import re\n",
    "corpus_lemm = pd.read_csv(\"reviews_score.csv\", engine='python')"
   ]
  },
  {
   "cell_type": "code",
   "execution_count": 3,
   "metadata": {
    "collapsed": true
   },
   "outputs": [],
   "source": [
    "text = '.'.join(corpus_lemm['review'])\n",
    "sentences_list = [x.strip() for x in text.split('.')]"
   ]
  },
  {
   "cell_type": "markdown",
   "metadata": {},
   "source": [
    "### Идея 2"
   ]
  },
  {
   "cell_type": "code",
   "execution_count": 4,
   "metadata": {},
   "outputs": [],
   "source": [
    "words_sentences_list = [x.split(' ') for x in sentences_list]"
   ]
  },
  {
   "cell_type": "code",
   "execution_count": 8,
   "metadata": {},
   "outputs": [],
   "source": [
    "from pymystem3 import Mystem\n",
    "m = Mystem()\n",
    "def preprocessing(raw_text):\n",
    "    clean_text = re.sub('\\W+', ' ', raw_text) # \\W = [^a-zA-Z0-9_]\n",
    "    return clean_text\n",
    "\n",
    "for i in range(len(words_sentences_list)):\n",
    "    for j in range(len(words_sentences_list[i])):\n",
    "        words_sentences_list[i][j] = preprocessing(words_sentences_list[i][j])"
   ]
  },
  {
   "cell_type": "code",
   "execution_count": 9,
   "metadata": {
    "collapsed": true
   },
   "outputs": [],
   "source": [
    "words_sentences_list = [word for word in words_sentences_list if word != ' ']"
   ]
  },
  {
   "cell_type": "code",
   "execution_count": 10,
   "metadata": {
    "collapsed": true
   },
   "outputs": [],
   "source": [
    "import gensim\n",
    "model = gensim.models.Word2Vec(words_sentences_list, size=500, window=10, min_count=2, sg=0)"
   ]
  },
  {
   "cell_type": "code",
   "execution_count": 11,
   "metadata": {},
   "outputs": [
    {
     "data": {
      "text/plain": [
       "<gensim.models.word2vec.Word2Vec at 0x7ffae54dbe80>"
      ]
     },
     "execution_count": 11,
     "metadata": {},
     "output_type": "execute_result"
    }
   ],
   "source": [
    "model"
   ]
  },
  {
   "cell_type": "code",
   "execution_count": 12,
   "metadata": {
    "collapsed": true
   },
   "outputs": [],
   "source": [
    "import pickle\n",
    "pickle.dump(model, open(\"w2v_model\", \"wb\"))\n",
    "#model = pickle.load(open(\"w2v_model\", \"rb\"))"
   ]
  },
  {
   "cell_type": "code",
   "execution_count": 13,
   "metadata": {
    "collapsed": true
   },
   "outputs": [],
   "source": [
    "model.wv.save_word2vec_format('model.bin', binary=True)"
   ]
  },
  {
   "cell_type": "markdown",
   "metadata": {},
   "source": [
    "## пересечение со словарем"
   ]
  },
  {
   "cell_type": "code",
   "execution_count": 15,
   "metadata": {},
   "outputs": [],
   "source": [
    "with open('sentiment_list.txt','r',encoding='utf-8') as file4:\n",
    "    new_sent_words = {word.split('\\t')[0] for word in file4.readlines()}"
   ]
  },
  {
   "cell_type": "code",
   "execution_count": 18,
   "metadata": {},
   "outputs": [],
   "source": [
    "with open('rusentilex.csv','r',encoding='utf-8') as file3:\n",
    "    sentiment_dict = {word.split(',')[0] for word in file3.readlines()}"
   ]
  },
  {
   "cell_type": "code",
   "execution_count": 19,
   "metadata": {},
   "outputs": [
    {
     "name": "stdout",
     "output_type": "stream",
     "text": [
      "Всего найдено  197  слов\n",
      "Пересечение со словарем оценочных выражений:  57 слов,  30.0 % списка\n"
     ]
    }
   ],
   "source": [
    "print('Всего найдено ', len(new_sent_words), ' слов')\n",
    "print('Пересечение со словарем оценочных выражений: ', len(sentiment_dict & new_sent_words), 'слов, ',\n",
    "      round(len(sentiment_dict & new_sent_words)/len(new_sent_words), 1)*100, '% списка')"
   ]
  },
  {
   "cell_type": "code",
   "execution_count": 20,
   "metadata": {},
   "outputs": [
    {
     "name": "stdout",
     "output_type": "stream",
     "text": [
      "восторженный\n",
      "гуманный\n",
      "классный\n",
      "благодарный\n",
      "осадок\n",
      "достойный\n",
      "двойственный\n",
      "улыбчивый\n",
      "обходительный\n",
      "симпатичный\n",
      "превосходный\n",
      "приветливый\n",
      "отменный\n",
      "отличный\n",
      "ужасный\n",
      "вежливый\n",
      "доброжелательный\n",
      "позитивный\n",
      "дружелюбный\n",
      "грубить\n",
      "изумительный\n",
      "прекрасный\n",
      "потрясающий\n",
      "восхитительный\n",
      "внимательный\n",
      "предупредительный\n",
      "великолепный\n",
      "правильный\n",
      "шикарный\n",
      "стильный\n",
      "отвратительный\n",
      "неплохой\n",
      "вкусный\n",
      "замечательный\n",
      "приличный\n",
      "живой\n",
      "обширный\n",
      "умеренный\n",
      "посредственный\n",
      "качественный\n",
      "тихий\n",
      "негативный\n",
      "удивительный\n",
      "потрясать\n",
      "разумный\n",
      "отрицательный\n",
      "признательность\n",
      "оригинальный\n",
      "демократичный\n",
      "благодарность\n",
      "чудесный\n",
      "противоречивый\n",
      "улыбаться\n",
      "испортиться\n",
      "положительный\n",
      "душевный\n",
      "спокойный\n"
     ]
    }
   ],
   "source": [
    "for word in sentiment_dict & new_sent_words:\n",
    "    print(word)"
   ]
  },
  {
   "cell_type": "code",
   "execution_count": 21,
   "metadata": {},
   "outputs": [
    {
     "name": "stdout",
     "output_type": "stream",
     "text": [
      "выступать\n",
      "молодец \n",
      "хороший \n",
      "мальчик\n",
      "фоновый\n",
      "подстреливать\n",
      "выражать\n",
      "бейдж\n",
      "достойный \n",
      "подготовка\n",
      "разговаривать\n",
      "обычный\n",
      "отличный \n",
      "ненавязчивый \n",
      "плохой \n",
      "внимательный \n",
      "сытно\n",
      "отвратительный \n",
      "узбекский\n",
      "изменяться\n",
      "объяснять\n",
      "персонал \n",
      "вопрос\n",
      "поблагодарить\n",
      "бармен\n",
      "девушка\n",
      "официанка\n",
      "громко\n",
      "пытаться\n",
      "сервис \n",
      "положительный \n",
      "японский\n",
      "воспоминание\n",
      "замечательный \n",
      "менеджер\n",
      "официант\n",
      "мероприятие \n",
      "спасибо \n",
      "вкусно\n",
      "приятный \n",
      "обслуживание \n",
      "витражный\n",
      "хата \n",
      "разнообразный \n",
      "громкий\n",
      "купчино\n",
      "вежливо\n",
      "умница \n",
      "коллектив\n",
      "вежливый \n",
      "гауд\n",
      "отвечать \n",
      "изумительный \n",
      " 320р \n",
      "басс\n",
      "милый \n",
      "обслуживать \n",
      "ребята\n",
      "орать \n",
      "периодически\n",
      "великолепный \n",
      "администратор\n",
      "оформлять\n",
      "тетка quot \n",
      "грузинский\n",
      "играть\n",
      "вопрос \n",
      "петь\n",
      "кавказский\n",
      "итальянский\n",
      "суша бар\n",
      "классный \n",
      "средний \n",
      "мексикан \n",
      "парень\n",
      "супер \n",
      "девушка \n",
      "хромать\n",
      "сытно \n",
      "обалденный\n",
      "марципановый\n",
      "прекрасный \n",
      "официант \n",
      "дешевый \n",
      "умничек \n",
      "задавать\n",
      "китайский\n",
      "эмоция \n",
      "доброжелательно \n",
      "окраина\n",
      "уединенный\n",
      "организованный\n",
      "управляющий\n",
      "бедненький \n",
      "улыбаться \n",
      "четко \n",
      "девочка\n",
      "официантка \n",
      "впечатление \n",
      "пепперони \n",
      "нормальный \n",
      "обстоятельно \n",
      "приемлимый\n",
      "хостесса\n",
      "стараться\n",
      "кофейня\n",
      "благодарность \n",
      "манта \n",
      "топтаться\n",
      "атмосферный\n",
      "бегать\n",
      "Вю\n",
      "сервис\n",
      "музыка \n",
      "ачма\n",
      "мильфей\n",
      "вкусный \n",
      "айс\n",
      "бейджик\n",
      "официантка\n",
      "потрясать \n",
      "клиент\n",
      "отменный \n",
      "разнообразие\n",
      "неплохой \n",
      "красивый \n",
      "соня \n",
      "разнообразно \n",
      " quot оставлять\n",
      "уютный \n",
      "персонал\n",
      "благодарить\n",
      "выключать\n",
      "эмоция\n",
      "приличный \n",
      "администратор \n",
      "бармен \n",
      "врубать\n",
      "вкусно \n",
      "свадебный\n"
     ]
    }
   ],
   "source": [
    "for word in (new_sent_words - sentiment_dict):\n",
    "    print(word)"
   ]
  },
  {
   "cell_type": "code",
   "execution_count": null,
   "metadata": {
    "collapsed": true
   },
   "outputs": [],
   "source": []
  }
 ],
 "metadata": {
  "kernelspec": {
   "display_name": "Python 3",
   "language": "python",
   "name": "python3"
  },
  "language_info": {
   "codemirror_mode": {
    "name": "ipython",
    "version": 3
   },
   "file_extension": ".py",
   "mimetype": "text/x-python",
   "name": "python",
   "nbconvert_exporter": "python",
   "pygments_lexer": "ipython3",
   "version": "3.6.3"
  }
 },
 "nbformat": 4,
 "nbformat_minor": 2
}
